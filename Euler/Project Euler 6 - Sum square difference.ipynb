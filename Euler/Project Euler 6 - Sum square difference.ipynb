{
 "cells": [
  {
   "cell_type": "markdown",
   "id": "79c87489",
   "metadata": {},
   "source": [
    "# Solution"
   ]
  },
  {
   "cell_type": "code",
   "execution_count": 1,
   "id": "3ed2d413",
   "metadata": {},
   "outputs": [
    {
     "name": "stdout",
     "output_type": "stream",
     "text": [
      "1\n",
      "546\n",
      "22245341300\n"
     ]
    }
   ],
   "source": [
    "#!/bin/python3\n",
    "\n",
    "import sys\n",
    "\n",
    "def sum_of_squares(n):\n",
    "    sum = 0\n",
    "    for i in range(1,n+1,1):\n",
    "        sum = sum + (i * i)\n",
    "    return sum\n",
    "\n",
    "def square_of_sum(n):\n",
    "    sum = 0\n",
    "    for i in range(1, n+1, 1):\n",
    "        sum = sum + i\n",
    "    return sum**2\n",
    "    \n",
    "t = int(input().strip())\n",
    "for a0 in range(t):\n",
    "    n = int(input().strip())\n",
    "    print(abs(sum_of_squares(n) - square_of_sum(n)))"
   ]
  },
  {
   "cell_type": "code",
   "execution_count": null,
   "id": "377e1fa6",
   "metadata": {},
   "outputs": [],
   "source": []
  }
 ],
 "metadata": {
  "kernelspec": {
   "display_name": "Python 3 (ipykernel)",
   "language": "python",
   "name": "python3"
  },
  "language_info": {
   "codemirror_mode": {
    "name": "ipython",
    "version": 3
   },
   "file_extension": ".py",
   "mimetype": "text/x-python",
   "name": "python",
   "nbconvert_exporter": "python",
   "pygments_lexer": "ipython3",
   "version": "3.9.12"
  }
 },
 "nbformat": 4,
 "nbformat_minor": 5
}
