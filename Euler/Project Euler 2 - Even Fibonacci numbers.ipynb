{
 "cells": [
  {
   "cell_type": "markdown",
   "id": "4e50d771",
   "metadata": {},
   "source": [
    "# Solution"
   ]
  },
  {
   "cell_type": "code",
   "execution_count": 1,
   "id": "db505ae5",
   "metadata": {},
   "outputs": [
    {
     "name": "stdout",
     "output_type": "stream",
     "text": [
      "2\n",
      "100\n",
      "44\n",
      "100000\n",
      "60696\n"
     ]
    }
   ],
   "source": [
    "import sys\n",
    "\n",
    "def fib(n):\n",
    "    lst_sum = 0\n",
    "    n1, n2 = 0, 1\n",
    "    lst = []\n",
    "    while(n1+n2 < n):\n",
    "        lst_sum = n1 + n2\n",
    "        n1 = n2\n",
    "        n2 = lst_sum\n",
    "        if(lst_sum % 2 == 0):\n",
    "            lst.append(lst_sum)\n",
    "    print(sum(lst))\n",
    "\n",
    "t = int(input().strip())\n",
    "for a0 in range(t):\n",
    "    n = int(input().strip())\n",
    "    fib(n)"
   ]
  },
  {
   "cell_type": "code",
   "execution_count": null,
   "id": "1c50884d",
   "metadata": {},
   "outputs": [],
   "source": []
  }
 ],
 "metadata": {
  "kernelspec": {
   "display_name": "Python 3 (ipykernel)",
   "language": "python",
   "name": "python3"
  },
  "language_info": {
   "codemirror_mode": {
    "name": "ipython",
    "version": 3
   },
   "file_extension": ".py",
   "mimetype": "text/x-python",
   "name": "python",
   "nbconvert_exporter": "python",
   "pygments_lexer": "ipython3",
   "version": "3.9.12"
  }
 },
 "nbformat": 4,
 "nbformat_minor": 5
}
