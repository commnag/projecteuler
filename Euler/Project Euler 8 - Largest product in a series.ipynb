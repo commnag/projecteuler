{
 "cells": [
  {
   "cell_type": "markdown",
   "id": "0d43104f",
   "metadata": {},
   "source": [
    "[https://www.hackerrank.com/contests/projecteuler/challenges/euler008/problem?isFullScreen=true]"
   ]
  },
  {
   "cell_type": "code",
   "execution_count": null,
   "id": "cfa4a33b",
   "metadata": {},
   "outputs": [],
   "source": [
    "#!/bin/python3\n",
    "\n",
    "import sys\n",
    "\n",
    "t = int(input().strip())\n",
    "for a0 in range(t):\n",
    "    n,k = input().strip().split(' ')\n",
    "    n,k = [int(n),int(k)]\n",
    "    num = input().strip()\n",
    "    inp = list(str(num))\n",
    "    max_mul = 0\n",
    "    for i in range(0, n-k+1):\n",
    "        mul = 1\n",
    "        for j in range(k):\n",
    "            mul = int(inp[i+j]) * mul\n",
    "        if (mul > max_mul):\n",
    "            max_mul = mul\n",
    "    print(max_mul)\n",
    "\n",
    "\n"
   ]
  }
 ],
 "metadata": {
  "kernelspec": {
   "display_name": "Python 3 (ipykernel)",
   "language": "python",
   "name": "python3"
  },
  "language_info": {
   "codemirror_mode": {
    "name": "ipython",
    "version": 3
   },
   "file_extension": ".py",
   "mimetype": "text/x-python",
   "name": "python",
   "nbconvert_exporter": "python",
   "pygments_lexer": "ipython3",
   "version": "3.9.12"
  }
 },
 "nbformat": 4,
 "nbformat_minor": 5
}
