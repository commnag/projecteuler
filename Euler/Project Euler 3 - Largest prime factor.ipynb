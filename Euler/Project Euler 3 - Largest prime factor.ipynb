{
 "cells": [
  {
   "cell_type": "markdown",
   "id": "d33bc31a",
   "metadata": {},
   "source": [
    "# Solution"
   ]
  },
  {
   "cell_type": "code",
   "execution_count": 4,
   "id": "91c0d5d8",
   "metadata": {},
   "outputs": [
    {
     "name": "stdout",
     "output_type": "stream",
     "text": [
      "1\n",
      "100000\n",
      "5\n"
     ]
    }
   ],
   "source": [
    "#!/bin/python3\n",
    "\n",
    "import sys    \n",
    "import time\n",
    "import math\n",
    "\n",
    "def sqrt(n):\n",
    "    return math.sqrt(n)\n",
    "\n",
    "def is_prime(n):\n",
    "    if(n == 1):\n",
    "        return False\n",
    "    if(n == 2):\n",
    "        return True\n",
    "    if(n % 2 == 0):\n",
    "        return False\n",
    "    \n",
    "    for i in range(3, int(sqrt(n))+1, 2):\n",
    "        if(n % i == 0):\n",
    "            return False\n",
    "    \n",
    "    return True\n",
    "\n",
    "t = int(input().strip())\n",
    "for a0 in range(t):\n",
    "    n = int(input().strip())\n",
    "    for i in range(n, 0, -1):\n",
    "        if(n % i == 0):\n",
    "            if(is_prime(i)):\n",
    "                print(i)\n",
    "                break\n"
   ]
  }
 ],
 "metadata": {
  "kernelspec": {
   "display_name": "Python 3 (ipykernel)",
   "language": "python",
   "name": "python3"
  },
  "language_info": {
   "codemirror_mode": {
    "name": "ipython",
    "version": 3
   },
   "file_extension": ".py",
   "mimetype": "text/x-python",
   "name": "python",
   "nbconvert_exporter": "python",
   "pygments_lexer": "ipython3",
   "version": "3.9.12"
  }
 },
 "nbformat": 4,
 "nbformat_minor": 5
}
